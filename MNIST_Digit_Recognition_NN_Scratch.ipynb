{
  "cells": [
    {
      "cell_type": "code",
      "execution_count": null,
      "metadata": {
        "id": "QEfT6p54_Afo"
      },
      "outputs": [],
      "source": [
        "# setup of required libraries\n",
        "import numpy as np\n",
        "import pandas as pd\n",
        "import math\n",
        "import matplotlib.cm as cm \n",
        "import matplotlib.pyplot as plt"
      ]
    },
    {
      "cell_type": "code",
      "execution_count": null,
      "metadata": {
        "id": "nEhdGhSkTRoA"
      },
      "outputs": [],
      "source": [
        "train_data = pd.read_csv(\"/content/train.csv\")\n",
        "test_data= pd.read_csv(\"/content/test.csv\")"
      ]
    },
    {
      "cell_type": "code",
      "execution_count": null,
      "metadata": {
        "colab": {
          "base_uri": "https://localhost:8080/"
        },
        "id": "PVBx3yHwUuYD",
        "outputId": "fafc6237-61b9-4fe5-a8cd-796739b7373c"
      },
      "outputs": [
        {
          "data": {
            "text/plain": [
              "(42000, 785)"
            ]
          },
          "execution_count": 11,
          "metadata": {},
          "output_type": "execute_result"
        }
      ],
      "source": [
        "train_data.shape"
      ]
    },
    {
      "cell_type": "code",
      "execution_count": null,
      "metadata": {
        "colab": {
          "base_uri": "https://localhost:8080/"
        },
        "id": "6QalbI8UUxQ8",
        "outputId": "e23d8618-ca19-4417-a40d-e61367daa399"
      },
      "outputs": [
        {
          "data": {
            "text/plain": [
              "(28000, 784)"
            ]
          },
          "execution_count": 12,
          "metadata": {},
          "output_type": "execute_result"
        }
      ],
      "source": [
        "test_data.shape"
      ]
    },
    {
      "cell_type": "code",
      "execution_count": null,
      "metadata": {
        "id": "f-oiQcXGUzp_"
      },
      "outputs": [],
      "source": [
        "# separating labels and pixels\n",
        "train_labels=np.array(train_data.loc[:,'label'])\n",
        "train_data=np.array(train_data.loc[:,train_data.columns!='label'])"
      ]
    },
    {
      "cell_type": "code",
      "execution_count": null,
      "metadata": {
        "colab": {
          "base_uri": "https://localhost:8080/",
          "height": 298
        },
        "id": "2IB0hg60U7LM",
        "outputId": "8ce0631f-35c9-4df5-c79d-cfc836386356"
      },
      "outputs": [
        {
          "data": {
            "text/plain": [
              "<matplotlib.image.AxesImage at 0x7f0604ac3650>"
            ]
          },
          "execution_count": 22,
          "metadata": {},
          "output_type": "execute_result"
        },
        {
          "data": {
            "image/png": "[encoded data removed]",
            "text/plain": [
              "<Figure size 432x288 with 1 Axes>"
            ]
          },
          "metadata": {},
          "output_type": "display_data"
        }
      ],
      "source": [
        "# V\\visualize input data\n",
        "index=3;\n",
        "plt.title((train_labels[index]))\n",
        "plt.imshow(train_data[index].reshape(28,28), cmap=cm.binary)"
      ]
    },
    {
      "cell_type": "code",
      "execution_count": null,
      "metadata": {
        "colab": {
          "base_uri": "https://localhost:8080/"
        },
        "id": "GG0S2kTfU-a6",
        "outputId": "1df85913-b773-493d-8d94-5e9284aa7773"
      },
      "outputs": [
        {
          "name": "stdout",
          "output_type": "stream",
          "text": [
            "train data\n",
            "occurance of  0 = 4132\n",
            "occurance of  1 = 4684\n",
            "occurance of  2 = 4177\n",
            "occurance of  3 = 4351\n",
            "occurance of  4 = 4072\n",
            "occurance of  5 = 3795\n",
            "occurance of  6 = 4137\n",
            "occurance of  7 = 4401\n",
            "occurance of  8 = 4063\n",
            "occurance of  9 = 4188\n"
          ]
        }
      ],
      "source": [
        "# digit count\n",
        "print(\"train data\")\n",
        "y_value=np.zeros((1,10))\n",
        "for i in range (10):\n",
        "    print(\"occurance of \",i,\"=\",np.count_nonzero(train_labels==i))\n",
        "    y_value[0,i-1]= np.count_nonzero(train_labels==i)"
      ]
    },
    {
      "cell_type": "code",
      "execution_count": null,
      "metadata": {
        "colab": {
          "base_uri": "https://localhost:8080/",
          "height": 296
        },
        "id": "nfGUAom7V6RJ",
        "outputId": "9b8cac4f-5d8f-47af-ad8d-cf0c979eedc3"
      },
      "outputs": [
        {
          "output_type": "execute_result",
          "data": {
            "text/plain": [
              "<BarContainer object of 10 artists>"
            ]
          },
          "metadata": {},
          "execution_count": 52
        },
        {
          "output_type": "display_data",
          "data": {
            "text/plain": [
              "<Figure size 432x288 with 1 Axes>"
            ],
            "image/png": "[encoded data removed]"
          },
          "metadata": {
            "needs_background": "light"
          }
        }
      ],
      "source": [
        "#digit distribution\n",
        "y_value=y_value.ravel()\n",
        "x_value=[0,1,2,3,4,5,6,7,8,9]\n",
        "plt.xlabel('label')\n",
        "plt.ylabel('count')\n",
        "plt.bar(x_value,y_value,0.7,color='g')"
      ]
    },
    {
      "cell_type": "code",
      "execution_count": null,
      "metadata": {
        "colab": {
          "base_uri": "https://localhost:8080/"
        },
        "id": "_YbbKHBpWaFp",
        "outputId": "c76ec724-8b9f-4dad-c236-15985fe514d6"
      },
      "outputs": [
        {
          "name": "stdout",
          "output_type": "stream",
          "text": [
            "train_data shape=(784, 42000)\n",
            "train_label shape=(10, 42000)\n"
          ]
        }
      ],
      "source": [
        "# converting train_label in one hot encoder representation \n",
        "train_data=np.reshape(train_data,[784,42000])\n",
        "train_label=np.zeros((10,42000))\n",
        "for col in range (42000):\n",
        "    val=train_labels[col]\n",
        "    for row in range (10):\n",
        "        if (val==row):\n",
        "            train_label[val,col]=1\n",
        "print(\"train_data shape=\"+str(np.shape(train_data)))\n",
        "print(\"train_label shape=\"+str(np.shape(train_label)))"
      ]
    },
    {
      "cell_type": "code",
      "execution_count": null,
      "metadata": {
        "id": "5USg9RR0Wq2R"
      },
      "outputs": [],
      "source": [
        "# defining activation function\n",
        "def relu(Z):\n",
        "    A = np.maximum(0,Z)    \n",
        "    cache = Z \n",
        "    return A, cache\n",
        "\n",
        "def softmax(Z):\n",
        "    e_x = np.exp(Z)\n",
        "    A= e_x / np.sum(np.exp(Z))  \n",
        "    cache=Z\n",
        "    return A,cache   "
      ]
    },
    {
      "cell_type": "code",
      "execution_count": null,
      "metadata": {
        "id": "e4y5Z4vvXEo_"
      },
      "outputs": [],
      "source": [
        "# derivative of activation function\n",
        "def relu_backward(dA, cache):\n",
        "    Z = cache\n",
        "    dZ = np.array(dA, copy=True)\n",
        "    dZ[Z <= 0] = 0\n",
        "    assert (dZ.shape == Z.shape)\n",
        "    return dZ\n",
        "\n",
        "def softmax_backward(Z,cache):\n",
        "    Z=cache\n",
        "    length=10  \n",
        "    dZ=np.zeros((42000,10))\n",
        "    Z=np.transpose(Z)\n",
        "    for row in range (0,42000):\n",
        "            den=(np.sum(np.exp(Z[row,:])))*(np.sum(np.exp(Z[row,:])))\n",
        "            for col in range (0,10):\n",
        "                sums=0\n",
        "                for j in range (0,10):\n",
        "                    if (j!=col):\n",
        "                        sums=sums+(math.exp(Z[row,j]))\n",
        "                \n",
        "                dZ[row,col]=(math.exp(Z[row,col])*sums)/den           \n",
        "    dZ=np.transpose(dZ)\n",
        "    Z=np.transpose(Z)\n",
        "\n",
        "    assert (dZ.shape == Z.shape)\n",
        "    return dZ"
      ]
    },
    {
      "cell_type": "code",
      "execution_count": null,
      "metadata": {
        "id": "u_qwKXokX3Mw"
      },
      "outputs": [],
      "source": [
        "# initializing the weights and bias\n",
        "def initialize_parameters_deep(layer_dims):\n",
        "    parameters = {}\n",
        "    L = len(layer_dims)   # number of layers in the network\n",
        "    \n",
        "    for l in range(1, L):\n",
        "        parameters['W' + str(l)] = np.random.randn(layer_dims[l], layer_dims[l-1]) / np.sqrt(layer_dims[l-1]) #*0.01\n",
        "        parameters['b' + str(l)] = np.zeros((layer_dims[l], 1))\n",
        "    \n",
        "    return parameters"
      ]
    },
    {
      "cell_type": "code",
      "execution_count": null,
      "metadata": {
        "id": "T8-lMN2DYDm7"
      },
      "outputs": [],
      "source": [
        "#forward propagation\n",
        "def linear_forward(A, W, b):\n",
        "    Z = np.dot(W,A) +b\n",
        "    cache = (A, W, b)\n",
        "    assert(Z.shape == (W.shape[0], A.shape[1]))\n",
        "    return Z, cache\n",
        "\n",
        "def linear_activation_forward(A_prev, W, b, activation):\n",
        "    if activation == \"relu\":\n",
        "        # Inputs: \"A_prev, W, b\". Outputs: \"A, activation_cache\".\n",
        "        Z, linear_cache = linear_forward(A_prev, W, b)\n",
        "        #print(\"Z=\"+str(Z))\n",
        "        A, activation_cache = relu(Z) \n",
        "    elif activation == \"softmax\":\n",
        "        # Inputs: \"A_prev, W, b\". Outputs: \"A, activation_cache\".\n",
        "        Z, linear_cache = linear_forward(A_prev, W, b)\n",
        "        A, activation_cache = softmax(Z)\n",
        "    cache = (linear_cache, activation_cache)\n",
        "    return A, cache\n",
        "\n",
        "def L_model_forward(X, parameters):\n",
        "    caches = []\n",
        "    A = X\n",
        "    L = len(parameters) // 2                  # number of layers in the neural network\n",
        "    for l in range(1, L):\n",
        "        A_prev = A \n",
        "        A, cache = linear_activation_forward(A_prev, parameters['W' + str(l)], parameters['b' + str(l)], activation = \"relu\")\n",
        "        caches.append(cache)\n",
        "    AL, cache = linear_activation_forward(A, parameters['W' + str(L)], parameters['b' + str(L)], activation = \"softmax\")\n",
        "    caches.append(cache)               \n",
        "    return AL, caches"
      ]
    },
    {
      "cell_type": "code",
      "execution_count": null,
      "metadata": {
        "id": "MY1XOy0aYlRD"
      },
      "outputs": [],
      "source": [
        "#cost function\n",
        "def compute_cost(AL, Y):\n",
        "    \n",
        "    m = Y.shape[1]\n",
        "    cost = (-1 / m) * np.sum(np.multiply(Y, np.log(AL)) + np.multiply(1 - Y, np.log(1 - AL)))\n",
        "    #print(\"cost=\"+str(cost))\n",
        "    return cost"
      ]
    },
    {
      "cell_type": "code",
      "execution_count": null,
      "metadata": {
        "id": "V0vp28FAYoTE"
      },
      "outputs": [],
      "source": [
        "#backward propagation\n",
        "def linear_backward(dZ, cache):\n",
        "    A_prev, W, b = cache\n",
        "    m = A_prev.shape[1]\n",
        "    dW = 1./m * np.dot(dZ,A_prev.T)  \n",
        "    db = (1/m)*np.sum(dZ, axis=1, keepdims=True);\n",
        "    dA_prev = np.dot(W.T,dZ)\n",
        "    return dA_prev, dW, db\n",
        "\n",
        "def linear_activation_backward(dA, cache, activation):\n",
        "    linear_cache, activation_cache = cache\n",
        "    if activation == \"relu\":\n",
        "        dZ = relu_backward(dA, activation_cache)\n",
        "        dA_prev, dW, db = linear_backward(dZ, linear_cache)  \n",
        "    elif activation == \"softmax\":\n",
        "        dZ = softmax_backward(dA, activation_cache)\n",
        "        dA_prev, dW, db = linear_backward(dZ, linear_cache)\n",
        "    return dA_prev, dW, db\n",
        "\n",
        "def L_model_backward(AL, Y, caches):\n",
        "    grads = {}\n",
        "    L = len(caches) # the number of layers\n",
        "    dAL = - (np.divide(Y, AL) - np.divide(1 - Y, 1 - AL))\n",
        "    M=len(layers_dims)\n",
        "    current_cache = caches[M-2]\n",
        "    grads[\"dA\"+str(M-1)], grads[\"dW\"+str(M-1)], grads[\"db\"+str(M-1)] = linear_activation_backward(dAL, current_cache, activation = \"softmax\")#M-1\n",
        "    for l in reversed(range(L-1)):\n",
        "        current_cache = caches[l]\n",
        "        dA_prev_temp, dW_temp, db_temp = linear_activation_backward(grads[\"dA\" + str(l + 2)], current_cache, activation = \"relu\")\n",
        "        grads[\"dA\" + str(l + 1)] = dA_prev_temp\n",
        "        grads[\"dW\" + str(l + 1)] = dW_temp\n",
        "        grads[\"db\" + str(l + 1)] = db_temp\n",
        "    \n",
        "    return grads"
      ]
    },
    {
      "cell_type": "code",
      "execution_count": null,
      "metadata": {
        "id": "HOBpMrxLYzkX"
      },
      "outputs": [],
      "source": [
        "#upgrade function for weights and bias\n",
        "def update_parameters(parameters, grads, learning_rate):\n",
        "    for l in range(len_update-1):\n",
        "        parameters[\"W\" + str(l+1)] =parameters[\"W\" + str(l+1)] - (learning_rate*grads[\"dW\" + str(l+1)])\n",
        "        parameters[\"b\" + str(l+1)] = parameters[\"b\" + str(l+1)] - (learning_rate*grads[\"db\" + str(l+1)])\n",
        "    return parameters"
      ]
    },
    {
      "cell_type": "code",
      "execution_count": null,
      "metadata": {
        "id": "QnEABkVRY2ud"
      },
      "outputs": [],
      "source": [
        "def plot_graph(cost_plot):\n",
        "       \n",
        "    x_value=list(range(1,len(cost_plot)+1))\n",
        "    #print(x_value)\n",
        "    #print(cost_plot)\n",
        "    plt.xlabel('iteration')\n",
        "    plt.ylabel('cost')\n",
        "    plt.plot(x_value,cost_plot,0.,color='g')"
      ]
    },
    {
      "cell_type": "code",
      "execution_count": null,
      "metadata": {
        "id": "VHQ3lNXMY5ad"
      },
      "outputs": [],
      "source": [
        "# defining structure of neural network\n",
        "layers_dims = [784,700,600,500,400,10] #  n-layer model (n=6 including input and output layer)\n",
        "len_update=len(layers_dims)"
      ]
    },
    {
      "cell_type": "code",
      "execution_count": null,
      "metadata": {
        "id": "V4YbDxtqY_my"
      },
      "outputs": [],
      "source": [
        "#function to call sub_functions\n",
        "def L_layer_model(X, Y, layers_dims, learning_rate , num_iterations , print_cost=False):      #lr was 0.009\n",
        "    print(\"training...\")\n",
        "    costs = []  \n",
        "    cost_plot=np.zeros(num_iterations)\n",
        "    parameters = initialize_parameters_deep(layers_dims)\n",
        "    for i in range(0, num_iterations):\n",
        "        AL, caches = L_model_forward(X, parameters)\n",
        "        cost =compute_cost(AL, Y)\n",
        "        grads = L_model_backward(AL, Y, caches)\n",
        "        parameters = update_parameters(parameters, grads, learning_rate) \n",
        "        cost_plot[i]=cost;\n",
        "    \n",
        "    plot_graph(cost_plot)\n",
        "    return parameters"
      ]
    },
    {
      "cell_type": "code",
      "execution_count": null,
      "metadata": {
        "colab": {
          "base_uri": "https://localhost:8080/",
          "height": 314
        },
        "id": "WRU0TU1NZFwI",
        "outputId": "39b6a2ca-6780-43cd-9480-2becbb85c3cf"
      },
      "outputs": [
        {
          "output_type": "stream",
          "name": "stdout",
          "text": [
            "training...\n",
            "training done\n"
          ]
        },
        {
          "output_type": "display_data",
          "data": {
            "text/plain": [
              "<Figure size 432x288 with 1 Axes>"
            ],
            "image/png": "[encoded data removed]"
          },
          "metadata": {
            "needs_background": "light"
          }
        }
      ],
      "source": [
        "# variable parameter in network learning_rate, iteration\n",
        "parameters = L_layer_model(train_data, train_label, layers_dims,learning_rate = 0.0005, num_iterations =35 , print_cost = True) \n",
        "print(\"training done\")"
      ]
    }
  ],
  "metadata": {
    "colab": {
      "collapsed_sections": [],
      "provenance": []
    },
    "kernelspec": {
      "display_name": "Python 3",
      "name": "python3"
    },
    "language_info": {
      "name": "python"
    }
  },
  "nbformat": 4,
  "nbformat_minor": 0
}